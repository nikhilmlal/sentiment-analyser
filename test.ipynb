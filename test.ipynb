{
 "cells": [
  {
   "cell_type": "code",
   "execution_count": 34,
   "metadata": {},
   "outputs": [],
   "source": [
    "from flask import Flask, render_template, request\n",
    "from textblob import TextBlob"
   ]
  },
  {
   "cell_type": "code",
   "execution_count": 35,
   "metadata": {},
   "outputs": [],
   "source": [
    "#! usr/bin/env python3\n",
    "import praw\n",
    "import pandas as pd\n",
    "import datetime as dt"
   ]
  },
  {
   "cell_type": "code",
   "execution_count": 36,
   "metadata": {},
   "outputs": [],
   "source": [
    "import tweepy\n",
    "from textblob import TextBlob\n",
    "import csv\n",
    "import re\n",
    "import sys\n",
    "import os\n",
    "import matplotlib.pyplot as plt\n",
    "import numpy as np"
   ]
  },
  {
   "cell_type": "code",
   "execution_count": 37,
   "metadata": {},
   "outputs": [],
   "source": [
    "reddit = praw.Reddit(client_id='HzXasZS7KlVL0w',client_secret='nFCTM7PCsPktAE7ibjponTKqtfw',user_agent='sentiment_analyser',username='nikhilmlal',password='Anbrothers4reddit')"
   ]
  },
  {
   "cell_type": "code",
   "execution_count": 38,
   "metadata": {},
   "outputs": [],
   "source": [
    "c_key = 'cRjT9hq0hpoHjpCYM9c8XGTQe'\n",
    "c_secret = '6he7tK6KH4A1oqVqiu3djCgpu1dtCHXijftKoVfIkyGdY2vUWi'\n",
    "a_key = '740485466382868480-P9COIlo5B3ddDlndomlmWCyd1TvDRW1'\n",
    "a_secret = 'gUbKMd2tuRJFugGwGZP77gUkxSIHQQoWlcJPiI4jAnk0k'"
   ]
  },
  {
   "cell_type": "code",
   "execution_count": 39,
   "metadata": {},
   "outputs": [],
   "source": [
    "auth=tweepy.OAuthHandler(c_key,c_secret)\n",
    "auth.set_access_token(a_key,a_secret)\n",
    "api=tweepy.API(auth)"
   ]
  },
  {
   "cell_type": "code",
   "execution_count": 40,
   "metadata": {},
   "outputs": [],
   "source": [
    "unwanted_words=['@','RT',':','https','http']\n",
    "symbols=['@','#']\n",
    "data=[]\n",
    "score = 0"
   ]
  },
  {
   "cell_type": "code",
   "execution_count": 41,
   "metadata": {},
   "outputs": [],
   "source": [
    "app = Flask(__name__)"
   ]
  },
  {
   "cell_type": "code",
   "execution_count": 42,
   "metadata": {},
   "outputs": [],
   "source": [
    "@app.route('/')\n",
    "def index():\n",
    "    return render_template('test.html')"
   ]
  },
  {
   "cell_type": "code",
   "execution_count": 43,
   "metadata": {},
   "outputs": [],
   "source": [
    "os.remove(\"reddit_analysis.csv\")\n",
    "os.remove(\"twitter_analysis.csv\")"
   ]
  },
  {
   "cell_type": "code",
   "execution_count": 44,
   "metadata": {},
   "outputs": [],
   "source": [
    "@app.route('/hello', methods=['POST'])\n",
    "def hello():\n",
    "    keyword = request.form['keyword']\n",
    "    data1 = []\n",
    "    data2 = []\n",
    "    # Reddit Analysis\n",
    "    analysis= TextBlob(keyword)\n",
    "    subreddit = reddit.subreddit('all')\n",
    "    results = subreddit.search(keyword,limit=15)\n",
    "    result_posts = []\n",
    "    \n",
    "    for submission in subreddit.search(keyword,limit=20):\n",
    "        result_posts.append(submission.title)\n",
    "    \n",
    "    score1 = 0\n",
    "    for post in result_posts :\n",
    "        text1 = post\n",
    "        textWords1 = text1.split()\n",
    "        #print (textWords)\n",
    "        cleanedText = ' '.join(re.sub(\"(@[A-Za-z0-9]+)|([^0-9A-Za-z \\t])|(\\w+:\\/\\/\\S+)|(RT)\", \" \", text1).split())\n",
    "        #print (cleanedText1)\n",
    "        #print (TextBlob(cleanedTweet).tags)\n",
    "        analysis1 = TextBlob(cleanedText)\n",
    "        score1 = score1 + analysis1.sentiment.polarity\n",
    "        #print (analysis1.sentiment)\n",
    "        #print (\"\\n\")\n",
    "        polarity1 = 'Positive'\n",
    "        if(analysis1.sentiment.polarity < 0):\n",
    "            polarity1 = 'Negative'\n",
    "        if(0<=analysis1.sentiment.polarity <=0.2):\n",
    "            polarity1 = 'Neutral'\n",
    "        #print (polarity)\n",
    "        dic1={}\n",
    "        dic1['Sentiment']=polarity1\n",
    "        dic1['Post']=cleanedText\n",
    "        data1.append(dic1)\n",
    "    \n",
    "    df1=pd.DataFrame(data1)\n",
    "    df1.to_csv('reddit_analysis.csv')\n",
    "    file1 = pd.read_csv('reddit_analysis.csv')\n",
    "    x1 = file1[\"Sentiment\"]\n",
    "    plt.hist(x1,color=[\"lightgreen\"],align='left')\n",
    "    count1 = [0,0,0]\n",
    "    for i in x1:\n",
    "        if(i==\"Positive\"):\n",
    "            count1[0]+=1\n",
    "        elif(i==\"Negative\"):\n",
    "            count1[1]+=1\n",
    "        else:\n",
    "            count1[2]+=1\n",
    "            \n",
    "            \n",
    "    # Twitter Analysis\n",
    "    \n",
    "    pubic_tweets=api.search(keyword)\n",
    "    score2 = 0\n",
    "    for tweet in pubic_tweets:\n",
    "        text2 = tweet.text\n",
    "        textWords2=text2.split()\n",
    "        #print (textWords)\n",
    "        cleanedTweet=' '.join(re.sub(\"(@[A-Za-z0-9]+)|([^0-9A-Za-z \\t])|(\\w+:\\/\\/\\S+)|(RT)\", \" \", text2).split())\n",
    "        print (cleanedTweet)\n",
    "        #print (TextBlob(cleanedTweet).tags)\n",
    "        analysis2= TextBlob(cleanedTweet)\n",
    "        score2 = score2 + analysis2.sentiment.polarity\n",
    "        #print (analysis.sentiment)\n",
    "        #print (\"\\n\")\n",
    "        polarity2 = 'Positive'\n",
    "        if(analysis2.sentiment.polarity < 0):\n",
    "            polarity2 = 'Negative'\n",
    "        if(0<=analysis2.sentiment.polarity <=0.2):\n",
    "            polarity2 = 'Neutral'\n",
    "        #print (polarity)\n",
    "        dic2={}\n",
    "        dic2['Sentiment']=polarity2\n",
    "        dic2['Tweet']=cleanedTweet\n",
    "        data2.append(dic2)\n",
    "        \n",
    "        df2=pd.DataFrame(data2)\n",
    "        df2.to_csv('twitter_analysis.csv')\n",
    "        file2 = pd.read_csv('twitter_analysis.csv')\n",
    "        x2 = file2[\"Sentiment\"]\n",
    "        plt.hist(x2,color=[\"lightblue\"],align='right')\n",
    "        count2 = [0,0,0]\n",
    "        for i in x2:\n",
    "            if(i==\"Positive\"):\n",
    "                count2[0]+=1\n",
    "            elif(i==\"Negative\"):\n",
    "                count2[1]+=1\n",
    "            else:\n",
    "                count2[2]+=1\n",
    "    \n",
    "    return '<b>Twitter Data</b><br/>Sentiment score :<b> %s</b><br/>Positive :%s &#37;<br/>Negative :%s &#37;<br/>Neutral :%s &#37;<br/> <b>Reddit Data</b><br/>Sentiment score :<b> %s</b> <br/>Positive :%s &#37;<br/>Negative :%s &#37;<br/>Neutral :%s &#37;<br/> <a href=\"/\">Back Home</a> ' % (score2, (count2[0]/len(x2))*100,(count2[1]/len(x2))*100,(count2[2]/len(x2))*100, score1,(count1[0]/len(x1))*100,(count1[1]/len(x1))*100,(count1[2]/len(x1))*100)"
   ]
  },
  {
   "cell_type": "code",
   "execution_count": null,
   "metadata": {},
   "outputs": [
    {
     "name": "stdout",
     "output_type": "stream",
     "text": [
      " * Serving Flask app \"__main__\" (lazy loading)\n",
      " * Environment: production\n",
      "   WARNING: This is a development server. Do not use it in a production deployment.\n",
      "   Use a production WSGI server instead.\n",
      " * Debug mode: off\n"
     ]
    },
    {
     "name": "stderr",
     "output_type": "stream",
     "text": [
      " * Running on http://0.0.0.0:3000/ (Press CTRL+C to quit)\n",
      "127.0.0.1 - - [15/Nov/2019 11:15:21] \"GET / HTTP/1.1\" 200 -\n",
      "127.0.0.1 - - [15/Nov/2019 11:15:21] \"GET / HTTP/1.1\" 200 -\n"
     ]
    }
   ],
   "source": [
    "import webbrowser\n",
    "if __name__ == '__main__':\n",
    "    a_website = \"http://0.0.0.0:3000/\"\n",
    "    webbrowser.open_new_tab(a_website)\n",
    "    app.run(host = '0.0.0.0', port = 3000)"
   ]
  },
  {
   "cell_type": "code",
   "execution_count": null,
   "metadata": {},
   "outputs": [],
   "source": []
  }
 ],
 "metadata": {
  "kernelspec": {
   "display_name": "Python 3",
   "language": "python",
   "name": "python3"
  },
  "language_info": {
   "codemirror_mode": {
    "name": "ipython",
    "version": 3
   },
   "file_extension": ".py",
   "mimetype": "text/x-python",
   "name": "python",
   "nbconvert_exporter": "python",
   "pygments_lexer": "ipython3",
   "version": "3.6.8"
  }
 },
 "nbformat": 4,
 "nbformat_minor": 2
}
